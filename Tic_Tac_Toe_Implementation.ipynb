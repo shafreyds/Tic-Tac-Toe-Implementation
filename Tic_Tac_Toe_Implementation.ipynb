{
  "nbformat": 4,
  "nbformat_minor": 0,
  "metadata": {
    "colab": {
      "provenance": []
    },
    "kernelspec": {
      "name": "python3",
      "display_name": "Python 3"
    },
    "language_info": {
      "name": "python"
    }
  },
  "cells": [
    {
      "cell_type": "code",
      "execution_count": 3,
      "metadata": {
        "colab": {
          "base_uri": "https://localhost:8080/"
        },
        "id": "VO0sVSwq7BbO",
        "outputId": "0130848e-e465-42e7-ce82-6dc3370f67a0"
      },
      "outputs": [
        {
          "output_type": "stream",
          "name": "stdout",
          "text": [
            "- | - | -\n",
            "- | - | -\n",
            "- | - | -\n",
            "X's turn.\n",
            "Choose a position from 1-9: 1\n",
            "X | - | -\n",
            "- | - | -\n",
            "- | - | -\n",
            "O's turn.\n",
            "Choose a position from 1-9: 2\n",
            "X | O | -\n",
            "- | - | -\n",
            "- | - | -\n",
            "X's turn.\n",
            "Choose a position from 1-9: 4\n",
            "X | O | -\n",
            "X | - | -\n",
            "- | - | -\n",
            "O's turn.\n",
            "Choose a position from 1-9: 7\n",
            "X | O | -\n",
            "X | - | -\n",
            "O | - | -\n",
            "X's turn.\n",
            "Choose a position from 1-9: 5\n",
            "X | O | -\n",
            "X | X | -\n",
            "O | - | -\n",
            "O's turn.\n",
            "Choose a position from 1-9: 3\n",
            "X | O | O\n",
            "X | X | -\n",
            "O | - | -\n",
            "X's turn.\n",
            "Choose a position from 1-9: 9\n",
            "X | O | O\n",
            "X | X | -\n",
            "O | - | X\n",
            "X wins!\n"
          ]
        }
      ],
      "source": [
        "board = [\"-\", \"-\", \"-\",\n",
        "\t\t\"-\", \"-\", \"-\",\n",
        "\t\t\"-\", \"-\", \"-\"]\n",
        "\n",
        "def print_board():\n",
        "\tprint(board[0] + \" | \" + board[1] + \" | \" + board[2])\n",
        "\tprint(board[3] + \" | \" + board[4] + \" | \" + board[5])\n",
        "\tprint(board[6] + \" | \" + board[7] + \" | \" + board[8])\n",
        "\n",
        "def take_turn(player):\n",
        "\tprint(player + \"'s turn.\")\n",
        "\tposition = input(\"Choose a position from 1-9: \")\n",
        "\twhile position not in [\"1\", \"2\", \"3\", \"4\", \"5\", \"6\", \"7\", \"8\", \"9\"]:\n",
        "\t\tposition = input(\"Invalid input. Choose a position from 1-9: \")\n",
        "\tposition = int(position) - 1\n",
        "\twhile board[position] != \"-\":\n",
        "\t\tposition = int(input(\"Position already taken. Choose a different position: \")) - 1\n",
        "\tboard[position] = player\n",
        "\tprint_board()\n",
        "\n",
        "def check_game_over():\n",
        "\tif (board[0] == board[1] == board[2] != \"-\") or \\\n",
        "\t(board[3] == board[4] == board[5] != \"-\") or \\\n",
        "\t(board[6] == board[7] == board[8] != \"-\") or \\\n",
        "\t(board[0] == board[3] == board[6] != \"-\") or \\\n",
        "\t(board[1] == board[4] == board[7] != \"-\") or \\\n",
        "\t(board[2] == board[5] == board[8] != \"-\") or \\\n",
        "\t(board[0] == board[4] == board[8] != \"-\") or \\\n",
        "\t(board[2] == board[4] == board[6] != \"-\"):\n",
        "\t\treturn \"win\"\n",
        "\telif \"-\" not in board:\n",
        "\t\treturn \"tie\"\n",
        "\telse:\n",
        "\t\treturn \"play\"\n",
        "\n",
        "def play_game():\n",
        "\tprint_board()\n",
        "\tcurrent_player = \"X\"\n",
        "\tgame_over = False\n",
        "\twhile not game_over:\n",
        "\t\ttake_turn(current_player)\n",
        "\t\tgame_result = check_game_over()\n",
        "\t\tif game_result == \"win\":\n",
        "\t\t\tprint(current_player + \" wins!\")\n",
        "\t\t\tgame_over = True\n",
        "\t\telif game_result == \"tie\":\n",
        "\t\t\tprint(\"It's a tie!\")\n",
        "\t\t\tgame_over = True\n",
        "\t\telse:\n",
        "\t\t\tcurrent_player = \"O\" if current_player == \"X\" else \"X\"\n",
        "\n",
        "play_game()"
      ]
    },
    {
      "cell_type": "code",
      "source": [],
      "metadata": {
        "id": "NWSyahcu7d-N"
      },
      "execution_count": null,
      "outputs": []
    }
  ]
}